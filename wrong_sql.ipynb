{
 "cells": [
  {
   "cell_type": "code",
   "execution_count": 1,
   "metadata": {},
   "outputs": [],
   "source": [
    "import json\n",
    "import pandas as pd\n",
    "\n",
    "# Load the JSON file\n",
    "with open(\"dev_tables.json\", \"r\", encoding=\"utf-8\") as f:\n",
    "    data = json.load(f)\n",
    "\n",
    "table_schemas = {}\n",
    "dbs = []\n",
    "\n",
    "for db in data:\n",
    "    db_id = db.get(\"db_id\", [])\n",
    "    dbs.append(db_id)\n",
    "    schema_promt = f\"Below are the descriptions for the database {db_id}:\\n\"\n",
    "    for table in db.get(\"table_names_original\", []):\n",
    "        # import csv file in dev_databases/{db_id}/database_description/{table}.csv\n",
    "        try:\n",
    "            table_desc = pd.read_csv(f\"dev_databases/{db_id}/database_description/{table}.csv\")\n",
    "        except Exception as e:\n",
    "            print(db_id, table, e)\n",
    "        table_index = db[\"table_names_original\"].index(table)\n",
    "        schema_promt += f\"[Table name]\\n{table}\\n[(Column name, description, type)]\\n\"\n",
    "        for i, (tbl_idx, col_name) in enumerate(db.get(\"column_names_original\", [])):\n",
    "            if tbl_idx == table_index:\n",
    "                # find the column description whose original_column_name is col_name\n",
    "                try:\n",
    "                    col_desc = table_desc[table_desc[\"original_column_name\"] == col_name][\"column_description\"].values[0]\n",
    "                except Exception as e:\n",
    "                    col_desc = \"\"\n",
    "                type_desc = db.get(\"column_types\", [])[i]\n",
    "                schema_promt += f\"{col_name}, {col_desc}, {type_desc}\\n\"\n",
    "        schema_promt += \"\\n\"\n",
    "    table_schemas[db_id] = schema_promt"
   ]
  },
  {
   "cell_type": "code",
   "execution_count": 80,
   "metadata": {},
   "outputs": [],
   "source": [
    "def next():\n",
    "    results = json.load(open(\"eval_results_schema_desc.json\", \"r\"))\n",
    "    for db_id in results:\n",
    "        schema_promt = table_schemas[db_id]\n",
    "        for query in results[db_id]:\n",
    "            if query[\"result\"] == \"wrong answer\" or query[\"result\"] == \"not executable\":\n",
    "                yield schema_promt, query[\"question\"], query[\"gold_query\"], query[\"generated_query\"], query[\"result\"], query\n",
    "generator = next()"
   ]
  },
  {
   "cell_type": "code",
   "execution_count": null,
   "metadata": {},
   "outputs": [],
   "source": [
    "reason = []"
   ]
  },
  {
   "cell_type": "code",
   "execution_count": 45,
   "metadata": {},
   "outputs": [],
   "source": [
    "ambiguity = \"ambiguity\"\n",
    "wrong_function = \"wrong sql function\"\n",
    "wrong_reasoning = \"wrong reasoning\"\n",
    "wrong_schema = \"wrong schema\"\n",
    "wrong_value = \"wrong value\"\n",
    "wrong_gold = \"wrong gold\""
   ]
  },
  {
   "cell_type": "code",
   "execution_count": 81,
   "metadata": {},
   "outputs": [
    {
     "name": "stdout",
     "output_type": "stream",
     "text": [
      "Below are the descriptions for the database debit_card_specializing:\n",
      "[Table name]\n",
      "customers\n",
      "[(Column name, description, type)]\n",
      "CustomerID, identification of the customer, integer\n",
      "Segment, client segment, text\n",
      "Currency, Currency, text\n",
      "\n",
      "[Table name]\n",
      "gasstations\n",
      "[(Column name, description, type)]\n",
      "GasStationID, Gas Station ID, integer\n",
      "ChainID, Chain ID, integer\n",
      "Country, nan, text\n",
      "Segment, chain segment, text\n",
      "\n",
      "[Table name]\n",
      "products\n",
      "[(Column name, description, type)]\n",
      "ProductID, Product ID, integer\n",
      "Description, Description, text\n",
      "\n",
      "[Table name]\n",
      "transactions_1k\n",
      "[(Column name, description, type)]\n",
      "TransactionID, Transaction ID, integer\n",
      "Date, Date, date\n",
      "Time, Time, text\n",
      "CustomerID, Customer ID, integer\n",
      "CardID, Card ID, integer\n",
      "GasStationID, Gas Station ID, integer\n",
      "ProductID, Product ID, integer\n",
      "Amount, Amount, integer\n",
      "Price, Price, real\n",
      "\n",
      "[Table name]\n",
      "yearmonth\n",
      "[(Column name, description, type)]\n",
      "CustomerID, Customer ID, integer\n",
      "Date, Date, text\n",
      "Consumption, consumption, real\n",
      "\n",
      "\n",
      "What was the average monthly consumption of customers in SME for the year 2013?\n",
      "SELECT AVG(T2.Consumption) / 12 FROM customers AS T1 INNER JOIN yearmonth AS T2 ON T1.CustomerID = T2.CustomerID WHERE SUBSTR(T2.Date, 1, 4) = '2013' AND T1.Segment = 'SME'\n",
      "SELECT AVG(Consumption) AS AverageMonthlyConsumption FROM yearmonth ym JOIN customers c ON ym.CustomerID = c.CustomerID WHERE c.Segment = 'SME' AND ym.Date LIKE '2013%' GROUP BY ym.Date \n",
      "wrong answer\n"
     ]
    }
   ],
   "source": [
    "example = generator.__next__()\n",
    "for str in example[:-1]:\n",
    "    print(str)"
   ]
  },
  {
   "cell_type": "code",
   "execution_count": 71,
   "metadata": {},
   "outputs": [],
   "source": [
    "query = example[-1]\n",
    "query[\"reason\"] = wrong_value\n",
    "reason.append(query)"
   ]
  },
  {
   "cell_type": "code",
   "execution_count": 74,
   "metadata": {},
   "outputs": [],
   "source": [
    "nambiguity = 0\n",
    "nwrong_function = 0\n",
    "nwrong_reasoning = 0\n",
    "nwrong_schema = 0\n",
    "nwrong_value = 0\n",
    "nwrong_gold = 0\n",
    "\n",
    "for query in reason:\n",
    "    if ambiguity in query[\"reason\"]:\n",
    "        nambiguity += 1\n",
    "    if wrong_function in query[\"reason\"]:\n",
    "        nwrong_function += 1\n",
    "    if wrong_reasoning in query[\"reason\"]:\n",
    "        nwrong_reasoning += 1\n",
    "    if wrong_schema in query[\"reason\"]:\n",
    "        nwrong_schema += 1\n",
    "    if wrong_value in query[\"reason\"]:\n",
    "        nwrong_value += 1\n",
    "    if wrong_gold in query[\"reason\"]:\n",
    "        nwrong_gold += 1"
   ]
  },
  {
   "cell_type": "code",
   "execution_count": 78,
   "metadata": {},
   "outputs": [],
   "source": [
    "reason = sorted(reason, key=lambda k:k[\"reason\"])"
   ]
  },
  {
   "cell_type": "code",
   "execution_count": 79,
   "metadata": {},
   "outputs": [],
   "source": [
    "with open(\"error_analysis.json\", \"w\", encoding=\"utf-8\") as f:\n",
    "    json.dump(reason, f, indent=2)"
   ]
  },
  {
   "cell_type": "code",
   "execution_count": 75,
   "metadata": {},
   "outputs": [
    {
     "name": "stdout",
     "output_type": "stream",
     "text": [
      "3 1 5 5 7 3\n"
     ]
    }
   ],
   "source": [
    "print(nambiguity, nwrong_function, nwrong_reasoning, nwrong_schema, nwrong_value, nwrong_gold)"
   ]
  },
  {
   "cell_type": "markdown",
   "metadata": {},
   "source": [
    "schema ambiguity\n",
    "language ambiguity"
   ]
  },
  {
   "cell_type": "markdown",
   "metadata": {},
   "source": [
    "What is the difference in the annual average consumption of the customers with the least amount of consumption paid in CZK for 2013 between SME and LAM, LAM and KAM, and KAM and SME?"
   ]
  }
 ],
 "metadata": {
  "kernelspec": {
   "display_name": "base",
   "language": "python",
   "name": "python3"
  },
  "language_info": {
   "codemirror_mode": {
    "name": "ipython",
    "version": 3
   },
   "file_extension": ".py",
   "mimetype": "text/x-python",
   "name": "python",
   "nbconvert_exporter": "python",
   "pygments_lexer": "ipython3",
   "version": "3.12.7"
  }
 },
 "nbformat": 4,
 "nbformat_minor": 2
}
