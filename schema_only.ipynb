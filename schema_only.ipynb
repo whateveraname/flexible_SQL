{
 "cells": [
  {
   "cell_type": "code",
   "execution_count": 1,
   "metadata": {},
   "outputs": [],
   "source": [
    "import json\n",
    "import pandas as pd\n",
    "\n",
    "# Load the JSON file\n",
    "with open(\"dev_tables.json\", \"r\", encoding=\"utf-8\") as f:\n",
    "    data = json.load(f)\n",
    "\n",
    "table_schemas = {}\n",
    "dbs = []\n",
    "\n",
    "for db in data:\n",
    "    db_id = db.get(\"db_id\", [])\n",
    "    dbs.append(db_id)\n",
    "    schema_promt = f\"Below are the descriptions for the database {db_id}:\\n\"\n",
    "    for table in db.get(\"table_names_original\", []):\n",
    "        table_index = db[\"table_names_original\"].index(table)\n",
    "        schema_promt += f\"[Table name]\\n{table}\\n[(Column name, type)]\\n\"\n",
    "        for i, (tbl_idx, col_name) in enumerate(db.get(\"column_names_original\", [])):\n",
    "            if tbl_idx == table_index:\n",
    "                type_desc = db.get(\"column_types\", [])[i]\n",
    "                schema_promt += f\"{col_name}, {type_desc}\\n\"\n",
    "        schema_promt += \"\\n\"\n",
    "    table_schemas[db_id] = schema_promt"
   ]
  },
  {
   "cell_type": "code",
   "execution_count": 2,
   "metadata": {},
   "outputs": [],
   "source": [
    "from openai import OpenAI\n",
    "\n",
    "results = {}\n",
    "for db_id in dbs:\n",
    "    results[db_id] = []\n",
    "\n",
    "client = OpenAI()\n",
    "\n",
    "with open(f\"mini_dev_sqlite.json\", \"r\", encoding=\"utf-8\") as f:\n",
    "    queries = json.load(f)\n",
    "\n",
    "for query in queries:\n",
    "    #generate full prompt for queries\n",
    "    db_id = query[\"db_id\"]\n",
    "    prompt = table_schemas[db_id]\n",
    "    prompt += f\"Given the above database schema, generate SQL query for the below question:\\n\"\n",
    "    prompt += f\"{query['question']}\\nReturn a single SQL with no explanation.\\nBegin!\"\n",
    "    response = \"\"\n",
    "    try:\n",
    "        completion = client.chat.completions.create(\n",
    "            model=\"gpt-4o-mini\",\n",
    "            messages=[\n",
    "                {\n",
    "                \"role\": \"user\",\n",
    "                \"content\": prompt\n",
    "                }\n",
    "            ],\n",
    "            temperature=0\n",
    "        )\n",
    "        response = completion.choices[0].message.content\n",
    "    except Exception as e:\n",
    "        pass\n",
    "    # print(query[\"question\"])\n",
    "    # print(query[\"query\"])\n",
    "    # print(response)\n",
    "    results[db_id].append({\n",
    "        \"question\": query[\"question\"],\n",
    "        \"gold_query\": query[\"SQL\"],\n",
    "        \"generated_query\": response\n",
    "    })"
   ]
  },
  {
   "cell_type": "code",
   "execution_count": 3,
   "metadata": {},
   "outputs": [],
   "source": [
    "#save results to file\n",
    "with open(\"results_schema_only.json\", \"w\", encoding=\"utf-8\") as f:\n",
    "    json.dump(results, f, indent=2)"
   ]
  }
 ],
 "metadata": {
  "kernelspec": {
   "display_name": "base",
   "language": "python",
   "name": "python3"
  },
  "language_info": {
   "codemirror_mode": {
    "name": "ipython",
    "version": 3
   },
   "file_extension": ".py",
   "mimetype": "text/x-python",
   "name": "python",
   "nbconvert_exporter": "python",
   "pygments_lexer": "ipython3",
   "version": "3.12.3"
  }
 },
 "nbformat": 4,
 "nbformat_minor": 2
}
