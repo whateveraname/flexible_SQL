{
 "cells": [
  {
   "cell_type": "code",
   "execution_count": 1,
   "metadata": {},
   "outputs": [],
   "source": [
    "import json\n",
    "import pandas as pd\n",
    "\n",
    "# Load the JSON file\n",
    "with open(\"dev_tables.json\", \"r\", encoding=\"utf-8\") as f:\n",
    "    data = json.load(f)\n",
    "\n",
    "table_schemas = {}\n",
    "dbs = []\n",
    "\n",
    "for db in data:\n",
    "    db_id = db.get(\"db_id\", [])\n",
    "    dbs.append(db_id)\n",
    "    schema_promt = f\"Below are the descriptions for the database {db_id}:\\n\"\n",
    "    for table in db.get(\"table_names_original\", []):\n",
    "        # import csv file in dev_databases/{db_id}/database_description/{table}.csv\n",
    "        try:\n",
    "            table_desc = pd.read_csv(f\"dev_databases/{db_id}/database_description/{table}.csv\")\n",
    "        except Exception as e:\n",
    "            print(db_id, table, e)\n",
    "        table_index = db[\"table_names_original\"].index(table)\n",
    "        schema_promt += f\"[Table name]\\n{table}\\n[(Column name, description, type)]\\n\"\n",
    "        for i, (tbl_idx, col_name) in enumerate(db.get(\"column_names_original\", [])):\n",
    "            if tbl_idx == table_index:\n",
    "                # find the column description whose original_column_name is col_name\n",
    "                try:\n",
    "                    col_desc = table_desc[table_desc[\"original_column_name\"] == col_name][\"column_description\"].values[0]\n",
    "                except Exception as e:\n",
    "                    col_desc = \"\"\n",
    "                type_desc = db.get(\"column_types\", [])[i]\n",
    "                schema_promt += f\"{col_name}, {col_desc}, {type_desc}\\n\"\n",
    "        schema_promt += \"\\n\"\n",
    "    table_schemas[db_id] = schema_promt"
   ]
  },
  {
   "cell_type": "code",
   "execution_count": 3,
   "metadata": {},
   "outputs": [
    {
     "name": "stdout",
     "output_type": "stream",
     "text": [
      "Below are the descriptions for the database debit_card_specializing:\n",
      "[Table name]\n",
      "customers\n",
      "[(Column name, description, type)]\n",
      "CustomerID, identification of the customer, integer\n",
      "Segment, client segment, text\n",
      "Currency, Currency, text\n",
      "\n",
      "[Table name]\n",
      "gasstations\n",
      "[(Column name, description, type)]\n",
      "GasStationID, Gas Station ID, integer\n",
      "ChainID, Chain ID, integer\n",
      "Country, nan, text\n",
      "Segment, chain segment, text\n",
      "\n",
      "[Table name]\n",
      "products\n",
      "[(Column name, description, type)]\n",
      "ProductID, Product ID, integer\n",
      "Description, Description, text\n",
      "\n",
      "[Table name]\n",
      "transactions_1k\n",
      "[(Column name, description, type)]\n",
      "TransactionID, Transaction ID, integer\n",
      "Date, Date, date\n",
      "Time, Time, text\n",
      "CustomerID, Customer ID, integer\n",
      "CardID, Card ID, integer\n",
      "GasStationID, Gas Station ID, integer\n",
      "ProductID, Product ID, integer\n",
      "Amount, Amount, integer\n",
      "Price, Price, real\n",
      "\n",
      "[Table name]\n",
      "yearmonth\n",
      "[(Column name, description, type)]\n",
      "CustomerID, Customer ID, integer\n",
      "Date, Date, text\n",
      "Consumption, consumption, real\n",
      "\n",
      "\n"
     ]
    }
   ],
   "source": [
    "print(table_schemas[\"debit_card_specializing\"])"
   ]
  },
  {
   "cell_type": "code",
   "execution_count": 7,
   "metadata": {},
   "outputs": [
    {
     "name": "stdout",
     "output_type": "stream",
     "text": [
      "```sql\n",
      "SELECT c.Currency \n",
      "FROM customers c \n",
      "JOIN transactions_1k t ON c.CustomerID = t.CustomerID \n",
      "WHERE t.Amount = 548.4 AND t.Date = '2012-08-24';\n",
      "```\n"
     ]
    }
   ],
   "source": [
    "from openai import OpenAI\n",
    "\n",
    "results = {}\n",
    "for db_id in dbs:\n",
    "    results[db_id] = []\n",
    "\n",
    "client = OpenAI()\n",
    "\n",
    "#generate full prompt for queries\n",
    "prompt = table_schemas[\"debit_card_specializing\"]\n",
    "prompt += f\"Given the above database schema, convert the following pseudo-SQL query to a executable SQL:\\n\"\n",
    "prompt += f\"SELECT nationality WHERE customer spent 548.4 on 2012/8/24\\nReturn a single SQL with no explanation.\\nBegin!\"\n",
    "response = \"\"\n",
    "try:\n",
    "    completion = client.chat.completions.create(\n",
    "        model=\"gpt-4o-mini\",\n",
    "        messages=[\n",
    "            {\n",
    "            \"role\": \"user\",\n",
    "            \"content\": prompt\n",
    "            }\n",
    "        ],\n",
    "        temperature=0\n",
    "    )\n",
    "    response = completion.choices[0].message.content\n",
    "except Exception as e:\n",
    "    pass\n",
    "# print(query[\"question\"])\n",
    "# print(query[\"query\"])\n",
    "print(response)"
   ]
  }
 ],
 "metadata": {
  "kernelspec": {
   "display_name": "base",
   "language": "python",
   "name": "python3"
  },
  "language_info": {
   "codemirror_mode": {
    "name": "ipython",
    "version": 3
   },
   "file_extension": ".py",
   "mimetype": "text/x-python",
   "name": "python",
   "nbconvert_exporter": "python",
   "pygments_lexer": "ipython3",
   "version": "3.9.12"
  }
 },
 "nbformat": 4,
 "nbformat_minor": 2
}
