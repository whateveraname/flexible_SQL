{
 "cells": [
  {
   "cell_type": "code",
   "execution_count": 1,
   "metadata": {},
   "outputs": [],
   "source": [
    "import json\n",
    "import pandas as pd\n",
    "\n",
    "# Load the JSON file\n",
    "with open(\"dev_tables.json\", \"r\", encoding=\"utf-8\") as f:\n",
    "    data = json.load(f)\n",
    "\n",
    "table_schemas = {}\n",
    "dbs = []\n",
    "\n",
    "for db in data:\n",
    "    db_id = db.get(\"db_id\", [])\n",
    "    dbs.append(db_id)\n",
    "    schema_promt = f\"Below are the descriptions for the database {db_id}:\\n\"\n",
    "    for table in db.get(\"table_names_original\", []):\n",
    "        # import csv file in dev_databases/{db_id}/database_description/{table}.csv\n",
    "        try:\n",
    "            table_desc = pd.read_csv(f\"dev_databases/{db_id}/database_description/{table}.csv\")\n",
    "        except Exception as e:\n",
    "            print(db_id, table, e)\n",
    "        table_index = db[\"table_names_original\"].index(table)\n",
    "        schema_promt += f\"[Table name]\\n{table}\\n[(Column name, description, type)]\\n\"\n",
    "        for i, (tbl_idx, col_name) in enumerate(db.get(\"column_names_original\", [])):\n",
    "            if tbl_idx == table_index:\n",
    "                # find the column description whose original_column_name is col_name\n",
    "                try:\n",
    "                    col_desc = table_desc[table_desc[\"original_column_name\"] == col_name][\"column_description\"].values[0]\n",
    "                except Exception as e:\n",
    "                    col_desc = \"\"\n",
    "                type_desc = db.get(\"column_types\", [])[i]\n",
    "                schema_promt += f\"{col_name}, {col_desc}, {type_desc}\\n\"\n",
    "        schema_promt += \"\\n\"\n",
    "    table_schemas[db_id] = schema_promt"
   ]
  },
  {
   "cell_type": "code",
   "execution_count": 71,
   "metadata": {},
   "outputs": [],
   "source": [
    "import json\n",
    "\n",
    "def next():\n",
    "    with open(f\"eval_results_schema_desc.json\", \"r\", encoding=\"utf-8\") as f:\n",
    "        queries = json.load(f)\n",
    "    for query in queries[\"student_club\"]:\n",
    "        yield query\n",
    "generator = next()\n",
    "results = []"
   ]
  },
  {
   "cell_type": "code",
   "execution_count": 130,
   "metadata": {},
   "outputs": [
    {
     "name": "stdout",
     "output_type": "stream",
     "text": [
      "Indicate the top source of funds received in September 2019 based on their amount.\n"
     ]
    }
   ],
   "source": [
    "query = generator.__next__()\n",
    "print(query[\"question\"])"
   ]
  },
  {
   "cell_type": "code",
   "execution_count": null,
   "metadata": {},
   "outputs": [
    {
     "name": "stdout",
     "output_type": "stream",
     "text": [
      "```sql\n",
      "SELECT notes FROM income WHERE source = 'fundraising' AND date_received = '2019-09-14';\n",
      "```\n"
     ]
    }
   ],
   "source": [
    "from openai import OpenAI\n",
    "\n",
    "client = OpenAI(\n",
    "    \n",
    ")\n",
    "\n",
    "f_SQL = \"SELECT notes WHERE income = 'fundraising' time = 2019/9/14\"\n",
    "#generate full prompt for queries\n",
    "prompt = table_schemas[\"student_club\"]\n",
    "prompt += f\"Given the above database schema, convert the following pseudo-SQL query to a executable SQL:\\n\"\n",
    "prompt += f\"{f_SQL}\\nReturn a single SQL with no explanation.\\nBegin!\"\n",
    "response = \"\"\n",
    "try:\n",
    "    completion = client.chat.completions.create(\n",
    "        model=\"gpt-4o-mini\",\n",
    "        messages=[\n",
    "            {\n",
    "            \"role\": \"user\",\n",
    "            \"content\": prompt\n",
    "            }\n",
    "        ],\n",
    "        temperature=0\n",
    "    )\n",
    "    response = completion.choices[0].message.content\n",
    "except Exception as e:\n",
    "    pass\n",
    "print(response)\n",
    "# query[\"f_SQL\"] = f_SQL\n",
    "# query[\"new_generated_query\"] = response\n",
    "# results.append(query)"
   ]
  },
  {
   "cell_type": "code",
   "execution_count": 132,
   "metadata": {},
   "outputs": [],
   "source": [
    "with open(\"f_SQL_student_club.json\", \"w\", encoding=\"utf-8\") as f:\n",
    "    json.dump(results, f, indent=2)"
   ]
  }
 ],
 "metadata": {
  "kernelspec": {
   "display_name": "base",
   "language": "python",
   "name": "python3"
  },
  "language_info": {
   "codemirror_mode": {
    "name": "ipython",
    "version": 3
   },
   "file_extension": ".py",
   "mimetype": "text/x-python",
   "name": "python",
   "nbconvert_exporter": "python",
   "pygments_lexer": "ipython3",
   "version": "3.12.3"
  }
 },
 "nbformat": 4,
 "nbformat_minor": 2
}
